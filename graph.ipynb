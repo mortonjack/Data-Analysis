{
 "cells": [
  {
   "cell_type": "code",
   "execution_count": 1,
   "id": "1d4e71f4",
   "metadata": {},
   "outputs": [],
   "source": [
    "import pandas as pd"
   ]
  },
  {
   "cell_type": "code",
   "execution_count": 2,
   "id": "9621111a",
   "metadata": {},
   "outputs": [],
   "source": [
    "import numpy as np"
   ]
  },
  {
   "cell_type": "code",
   "execution_count": 3,
   "id": "dca66ece",
   "metadata": {},
   "outputs": [],
   "source": [
    "import seaborn as sns"
   ]
  },
  {
   "cell_type": "code",
   "execution_count": 4,
   "id": "fcf3312d",
   "metadata": {},
   "outputs": [],
   "source": [
    "df1 = pd.read_csv(\"./datasets/steam_charts.csv\", usecols=[\"Month\", \"Avg. Players\", \"Peak Players\", \"App ID\", \"Game\"])"
   ]
  },
  {
   "cell_type": "code",
   "execution_count": 5,
   "id": "cc4eb77d",
   "metadata": {},
   "outputs": [],
   "source": [
    "df1 = df1.rename(columns = {\"Game\":\"name\", \"App ID\":\"appid\"}) #df1 stores player count data"
   ]
  },
  {
   "cell_type": "code",
   "execution_count": 6,
   "id": "3b3b891e",
   "metadata": {},
   "outputs": [],
   "source": [
    "df2 = pd.read_csv(\"./datasets/steam_info.csv\", usecols=[\"steam_appid\", \"price\"]) "
   ]
  },
  {
   "cell_type": "code",
   "execution_count": 7,
   "id": "7c93a2d1",
   "metadata": {},
   "outputs": [],
   "source": [
    "df2 = df2.rename(columns = {\"steam_appid\":\"appid\"}) #df2 stores price data"
   ]
  },
  {
   "cell_type": "code",
   "execution_count": 8,
   "id": "e45e601e",
   "metadata": {},
   "outputs": [],
   "source": [
    "df3 = pd.read_csv(\"./datasets/steamspy_data.csv\", usecols=[\"appid\", \"owners\", \"price\", \"initialprice\", \"discount\"]) "
   ]
  },
  {
   "cell_type": "code",
   "execution_count": 9,
   "id": "1baffd29",
   "metadata": {},
   "outputs": [],
   "source": [
    "df3 = df3.rename(columns = {\"price\":\"oldprice\"}) # df3 stores downloads info"
   ]
  },
  {
   "cell_type": "code",
   "execution_count": 10,
   "id": "5ee8d9de",
   "metadata": {},
   "outputs": [],
   "source": [
    "df = pd.merge(df1, df2, on = \"appid\", how = \"inner\") \n"
   ]
  },
  {
   "cell_type": "code",
   "execution_count": 11,
   "id": "dd91d8b4",
   "metadata": {},
   "outputs": [],
   "source": [
    "# [\"average_forever\", \"average_2weeks\", \"median_forever\", \"median_2weeks\"] additional df3 columns I may use"
   ]
  },
  {
   "cell_type": "code",
   "execution_count": 12,
   "id": "27dbc7f7",
   "metadata": {},
   "outputs": [],
   "source": [
    "df3 = df3.join(df3[\"owners\"].str.split(pat=\" .. \", expand=True))"
   ]
  },
  {
   "cell_type": "code",
   "execution_count": 13,
   "id": "a8155251",
   "metadata": {},
   "outputs": [],
   "source": [
    "del df3[\"owners\"]"
   ]
  },
  {
   "cell_type": "code",
   "execution_count": 14,
   "id": "6d2e505e",
   "metadata": {},
   "outputs": [],
   "source": [
    "df3.columns = ['appid', 'oldprice', 'initialprice', 'discount', 'min_owners', 'max_owners']"
   ]
  },
  {
   "cell_type": "code",
   "execution_count": 15,
   "id": "39029dc4",
   "metadata": {},
   "outputs": [],
   "source": [
    "df3[\"min_owners\"] = df3[\"min_owners\"].str.split(',')"
   ]
  },
  {
   "cell_type": "code",
   "execution_count": 16,
   "id": "05aa73cb",
   "metadata": {},
   "outputs": [
    {
     "ename": "TypeError",
     "evalue": "sequence item 0: expected str instance, list found",
     "output_type": "error",
     "traceback": [
      "\u001b[0;31m---------------------------------------------------------------------------\u001b[0m",
      "\u001b[0;31mTypeError\u001b[0m                                 Traceback (most recent call last)",
      "Input \u001b[0;32mIn [16]\u001b[0m, in \u001b[0;36m<cell line: 1>\u001b[0;34m()\u001b[0m\n\u001b[0;32m----> 1\u001b[0m df3[\u001b[38;5;124m\"\u001b[39m\u001b[38;5;124mmin_owners\u001b[39m\u001b[38;5;124m\"\u001b[39m] \u001b[38;5;241m=\u001b[39m \u001b[38;5;124;43m'\u001b[39;49m\u001b[38;5;124;43m'\u001b[39;49m\u001b[38;5;241;43m.\u001b[39;49m\u001b[43mjoin\u001b[49m\u001b[43m(\u001b[49m\u001b[43mdf3\u001b[49m\u001b[43m[\u001b[49m\u001b[38;5;124;43m\"\u001b[39;49m\u001b[38;5;124;43mmin_owners\u001b[39;49m\u001b[38;5;124;43m\"\u001b[39;49m\u001b[43m]\u001b[49m\u001b[43m)\u001b[49m\n",
      "\u001b[0;31mTypeError\u001b[0m: sequence item 0: expected str instance, list found"
     ]
    }
   ],
   "source": [
    "df3[\"min_owners\"] = ''.join(df3[\"min_owners\"])"
   ]
  },
  {
   "cell_type": "code",
   "execution_count": null,
   "id": "bd6919f6",
   "metadata": {},
   "outputs": [],
   "source": [
    "df3[\"max_owners\"] = df3[\"max_owners\"].str.split(',')"
   ]
  },
  {
   "cell_type": "code",
   "execution_count": null,
   "id": "0de85098",
   "metadata": {},
   "outputs": [],
   "source": [
    "df3[\"max_owners\"] = ''.join(df3[\"max_owners\"])"
   ]
  },
  {
   "cell_type": "code",
   "execution_count": null,
   "id": "6f007c4f",
   "metadata": {},
   "outputs": [],
   "source": [
    "df = pd.merge(df, df3, on = \"appid\", how = \"inner\")"
   ]
  },
  {
   "cell_type": "code",
   "execution_count": null,
   "id": "3bd340f6",
   "metadata": {},
   "outputs": [],
   "source": [
    "df #Cleaned up dataset"
   ]
  },
  {
   "cell_type": "code",
   "execution_count": null,
   "id": "c1fb7490",
   "metadata": {},
   "outputs": [],
   "source": [
    "df[df[\"min_owners\"] > 30000].plot.scatter(x = \"price\", y = \"Avg. Players\", logy=True)"
   ]
  },
  {
   "cell_type": "code",
   "execution_count": null,
   "id": "c6c9214e",
   "metadata": {},
   "outputs": [],
   "source": [
    "df[df[\"Month\"] == \"December 2016\"].plot.kde(x = \"price\", y = \"Avg. Players\", logy=False, xlim=[0, 10000])"
   ]
  },
  {
   "cell_type": "markdown",
   "id": "cc965571",
   "metadata": {},
   "source": []
  }
 ],
 "metadata": {
  "kernelspec": {
   "display_name": "Python 3 (ipykernel)",
   "language": "python",
   "name": "python3"
  },
  "language_info": {
   "codemirror_mode": {
    "name": "ipython",
    "version": 3
   },
   "file_extension": ".py",
   "mimetype": "text/x-python",
   "name": "python",
   "nbconvert_exporter": "python",
   "pygments_lexer": "ipython3",
   "version": "3.10.6"
  }
 },
 "nbformat": 4,
 "nbformat_minor": 5
}
