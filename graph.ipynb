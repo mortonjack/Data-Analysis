{
 "cells": [
  {
   "cell_type": "code",
   "execution_count": 1,
   "id": "1d4e71f4",
   "metadata": {},
   "outputs": [],
   "source": [
    "import pandas as pd"
   ]
  },
  {
   "cell_type": "code",
   "execution_count": 2,
   "id": "9621111a",
   "metadata": {},
   "outputs": [],
   "source": [
    "import numpy as np"
   ]
  },
  {
   "cell_type": "code",
   "execution_count": 63,
   "id": "fde0f582",
   "metadata": {},
   "outputs": [],
   "source": [
    "from matplotlib import pyplot as plt"
   ]
  },
  {
   "cell_type": "code",
   "execution_count": 3,
   "id": "dca66ece",
   "metadata": {},
   "outputs": [],
   "source": [
    "import seaborn as sns"
   ]
  },
  {
   "cell_type": "code",
   "execution_count": 4,
   "id": "fcf3312d",
   "metadata": {},
   "outputs": [],
   "source": [
    "df1 = pd.read_csv(\"./datasets/steam_charts.csv\", usecols=[\"Month\", \"Avg. Players\", \"Peak Players\", \"App ID\", \"Game\"])"
   ]
  },
  {
   "cell_type": "code",
   "execution_count": 5,
   "id": "cc4eb77d",
   "metadata": {},
   "outputs": [],
   "source": [
    "df1 = df1.rename(columns = {\"Game\":\"name\", \"App ID\":\"appid\"}) #df1 stores player count data"
   ]
  },
  {
   "cell_type": "code",
   "execution_count": 6,
   "id": "3b3b891e",
   "metadata": {},
   "outputs": [],
   "source": [
    "df2 = pd.read_csv(\"./datasets/steam_info.csv\", usecols=[\"steam_appid\", \"price\"]) "
   ]
  },
  {
   "cell_type": "code",
   "execution_count": 7,
   "id": "7c93a2d1",
   "metadata": {},
   "outputs": [],
   "source": [
    "df2 = df2.rename(columns = {\"steam_appid\":\"appid\"}) #df2 stores price data"
   ]
  },
  {
   "cell_type": "code",
   "execution_count": 8,
   "id": "e45e601e",
   "metadata": {},
   "outputs": [],
   "source": [
    "df3 = pd.read_csv(\"./datasets/steamspy_data.csv\", usecols=[\"appid\", \"owners\", \"price\", \"initialprice\", \"discount\"]) "
   ]
  },
  {
   "cell_type": "code",
   "execution_count": 9,
   "id": "1baffd29",
   "metadata": {},
   "outputs": [],
   "source": [
    "df3 = df3.rename(columns = {\"price\":\"oldprice\"}) # df3 stores downloads info"
   ]
  },
  {
   "cell_type": "code",
   "execution_count": 10,
   "id": "5ee8d9de",
   "metadata": {},
   "outputs": [],
   "source": [
    "df = pd.merge(df1, df2, on = \"appid\", how = \"inner\") \n"
   ]
  },
  {
   "cell_type": "code",
   "execution_count": 11,
   "id": "dd91d8b4",
   "metadata": {},
   "outputs": [],
   "source": [
    "# [\"average_forever\", \"average_2weeks\", \"median_forever\", \"median_2weeks\"] additional df3 columns I may use"
   ]
  },
  {
   "cell_type": "code",
   "execution_count": 12,
   "id": "27dbc7f7",
   "metadata": {},
   "outputs": [],
   "source": [
    "df3 = df3.join(df3[\"owners\"].str.split(pat=\" .. \", expand=True))"
   ]
  },
  {
   "cell_type": "code",
   "execution_count": 13,
   "id": "a8155251",
   "metadata": {},
   "outputs": [],
   "source": [
    "del df3[\"owners\"]"
   ]
  },
  {
   "cell_type": "code",
   "execution_count": 14,
   "id": "6d2e505e",
   "metadata": {},
   "outputs": [],
   "source": [
    "df3.columns = ['appid', 'oldprice', 'initialprice', 'discount', 'min_owners', 'max_owners']"
   ]
  },
  {
   "cell_type": "code",
   "execution_count": 15,
   "id": "39029dc4",
   "metadata": {},
   "outputs": [],
   "source": [
    "df3[\"min_owners\"] = df3[\"min_owners\"].replace(',', '', regex=True).astype(int) # removes commas from min/max_owners"
   ]
  },
  {
   "cell_type": "code",
   "execution_count": 16,
   "id": "bd6919f6",
   "metadata": {},
   "outputs": [],
   "source": [
    "df3[\"max_owners\"] = df3[\"max_owners\"].replace(',', '', regex=True).astype(int) # i.e. 1,000,000 becomes 1000000"
   ]
  },
  {
   "cell_type": "code",
   "execution_count": 17,
   "id": "6f007c4f",
   "metadata": {},
   "outputs": [],
   "source": [
    "df = pd.merge(df, df3, on = \"appid\", how = \"inner\")"
   ]
  },
  {
   "cell_type": "code",
   "execution_count": 25,
   "id": "96ae19f4",
   "metadata": {},
   "outputs": [],
   "source": [
    "df[\"avg_owners\"] = (df[\"max_owners\"] + df[\"min_owners\"])/2"
   ]
  },
  {
   "cell_type": "code",
   "execution_count": 51,
   "id": "1c73fde0",
   "metadata": {},
   "outputs": [],
   "source": [
    "df[\"avg_player_proportion\"] = (df[\"Avg. Players\"] / df[\"avg_owners\"])*100"
   ]
  },
  {
   "cell_type": "code",
   "execution_count": 52,
   "id": "3bd340f6",
   "metadata": {
    "scrolled": true
   },
   "outputs": [
    {
     "data": {
      "text/html": [
       "<div>\n",
       "<style scoped>\n",
       "    .dataframe tbody tr th:only-of-type {\n",
       "        vertical-align: middle;\n",
       "    }\n",
       "\n",
       "    .dataframe tbody tr th {\n",
       "        vertical-align: top;\n",
       "    }\n",
       "\n",
       "    .dataframe thead th {\n",
       "        text-align: right;\n",
       "    }\n",
       "</style>\n",
       "<table border=\"1\" class=\"dataframe\">\n",
       "  <thead>\n",
       "    <tr style=\"text-align: right;\">\n",
       "      <th></th>\n",
       "      <th>Month</th>\n",
       "      <th>Avg. Players</th>\n",
       "      <th>Peak Players</th>\n",
       "      <th>appid</th>\n",
       "      <th>name</th>\n",
       "      <th>price</th>\n",
       "      <th>oldprice</th>\n",
       "      <th>initialprice</th>\n",
       "      <th>discount</th>\n",
       "      <th>min_owners</th>\n",
       "      <th>max_owners</th>\n",
       "      <th>avg_owners</th>\n",
       "      <th>avg_player_proportion</th>\n",
       "    </tr>\n",
       "  </thead>\n",
       "  <tbody>\n",
       "    <tr>\n",
       "      <th>0</th>\n",
       "      <td>Last 30 Days</td>\n",
       "      <td>575701.03</td>\n",
       "      <td>906670</td>\n",
       "      <td>730</td>\n",
       "      <td>Counter-Strike: Global Offensive</td>\n",
       "      <td>0</td>\n",
       "      <td>0.0</td>\n",
       "      <td>0.0</td>\n",
       "      <td>0.0</td>\n",
       "      <td>50000000</td>\n",
       "      <td>100000000</td>\n",
       "      <td>75000000.0</td>\n",
       "      <td>0.767601</td>\n",
       "    </tr>\n",
       "    <tr>\n",
       "      <th>1</th>\n",
       "      <td>June 2022</td>\n",
       "      <td>572222.47</td>\n",
       "      <td>906670</td>\n",
       "      <td>730</td>\n",
       "      <td>Counter-Strike: Global Offensive</td>\n",
       "      <td>0</td>\n",
       "      <td>0.0</td>\n",
       "      <td>0.0</td>\n",
       "      <td>0.0</td>\n",
       "      <td>50000000</td>\n",
       "      <td>100000000</td>\n",
       "      <td>75000000.0</td>\n",
       "      <td>0.762963</td>\n",
       "    </tr>\n",
       "    <tr>\n",
       "      <th>2</th>\n",
       "      <td>May 2022</td>\n",
       "      <td>564961.70</td>\n",
       "      <td>923996</td>\n",
       "      <td>730</td>\n",
       "      <td>Counter-Strike: Global Offensive</td>\n",
       "      <td>0</td>\n",
       "      <td>0.0</td>\n",
       "      <td>0.0</td>\n",
       "      <td>0.0</td>\n",
       "      <td>50000000</td>\n",
       "      <td>100000000</td>\n",
       "      <td>75000000.0</td>\n",
       "      <td>0.753282</td>\n",
       "    </tr>\n",
       "    <tr>\n",
       "      <th>3</th>\n",
       "      <td>April 2022</td>\n",
       "      <td>568983.16</td>\n",
       "      <td>1013237</td>\n",
       "      <td>730</td>\n",
       "      <td>Counter-Strike: Global Offensive</td>\n",
       "      <td>0</td>\n",
       "      <td>0.0</td>\n",
       "      <td>0.0</td>\n",
       "      <td>0.0</td>\n",
       "      <td>50000000</td>\n",
       "      <td>100000000</td>\n",
       "      <td>75000000.0</td>\n",
       "      <td>0.758644</td>\n",
       "    </tr>\n",
       "    <tr>\n",
       "      <th>4</th>\n",
       "      <td>March 2022</td>\n",
       "      <td>581489.69</td>\n",
       "      <td>987993</td>\n",
       "      <td>730</td>\n",
       "      <td>Counter-Strike: Global Offensive</td>\n",
       "      <td>0</td>\n",
       "      <td>0.0</td>\n",
       "      <td>0.0</td>\n",
       "      <td>0.0</td>\n",
       "      <td>50000000</td>\n",
       "      <td>100000000</td>\n",
       "      <td>75000000.0</td>\n",
       "      <td>0.775320</td>\n",
       "    </tr>\n",
       "    <tr>\n",
       "      <th>...</th>\n",
       "      <td>...</td>\n",
       "      <td>...</td>\n",
       "      <td>...</td>\n",
       "      <td>...</td>\n",
       "      <td>...</td>\n",
       "      <td>...</td>\n",
       "      <td>...</td>\n",
       "      <td>...</td>\n",
       "      <td>...</td>\n",
       "      <td>...</td>\n",
       "      <td>...</td>\n",
       "      <td>...</td>\n",
       "      <td>...</td>\n",
       "    </tr>\n",
       "    <tr>\n",
       "      <th>49470</th>\n",
       "      <td>May 2019</td>\n",
       "      <td>56.86</td>\n",
       "      <td>105</td>\n",
       "      <td>553520</td>\n",
       "      <td>Trainz Railroad Simulator 2019</td>\n",
       "      <td>3999</td>\n",
       "      <td>1799.0</td>\n",
       "      <td>3999.0</td>\n",
       "      <td>55.0</td>\n",
       "      <td>50000</td>\n",
       "      <td>100000</td>\n",
       "      <td>75000.0</td>\n",
       "      <td>0.075813</td>\n",
       "    </tr>\n",
       "    <tr>\n",
       "      <th>49471</th>\n",
       "      <td>April 2019</td>\n",
       "      <td>49.63</td>\n",
       "      <td>90</td>\n",
       "      <td>553520</td>\n",
       "      <td>Trainz Railroad Simulator 2019</td>\n",
       "      <td>3999</td>\n",
       "      <td>1799.0</td>\n",
       "      <td>3999.0</td>\n",
       "      <td>55.0</td>\n",
       "      <td>50000</td>\n",
       "      <td>100000</td>\n",
       "      <td>75000.0</td>\n",
       "      <td>0.066173</td>\n",
       "    </tr>\n",
       "    <tr>\n",
       "      <th>49472</th>\n",
       "      <td>March 2019</td>\n",
       "      <td>51.58</td>\n",
       "      <td>94</td>\n",
       "      <td>553520</td>\n",
       "      <td>Trainz Railroad Simulator 2019</td>\n",
       "      <td>3999</td>\n",
       "      <td>1799.0</td>\n",
       "      <td>3999.0</td>\n",
       "      <td>55.0</td>\n",
       "      <td>50000</td>\n",
       "      <td>100000</td>\n",
       "      <td>75000.0</td>\n",
       "      <td>0.068773</td>\n",
       "    </tr>\n",
       "    <tr>\n",
       "      <th>49473</th>\n",
       "      <td>February 2019</td>\n",
       "      <td>53.12</td>\n",
       "      <td>93</td>\n",
       "      <td>553520</td>\n",
       "      <td>Trainz Railroad Simulator 2019</td>\n",
       "      <td>3999</td>\n",
       "      <td>1799.0</td>\n",
       "      <td>3999.0</td>\n",
       "      <td>55.0</td>\n",
       "      <td>50000</td>\n",
       "      <td>100000</td>\n",
       "      <td>75000.0</td>\n",
       "      <td>0.070827</td>\n",
       "    </tr>\n",
       "    <tr>\n",
       "      <th>49474</th>\n",
       "      <td>January 2019</td>\n",
       "      <td>53.22</td>\n",
       "      <td>100</td>\n",
       "      <td>553520</td>\n",
       "      <td>Trainz Railroad Simulator 2019</td>\n",
       "      <td>3999</td>\n",
       "      <td>1799.0</td>\n",
       "      <td>3999.0</td>\n",
       "      <td>55.0</td>\n",
       "      <td>50000</td>\n",
       "      <td>100000</td>\n",
       "      <td>75000.0</td>\n",
       "      <td>0.070960</td>\n",
       "    </tr>\n",
       "  </tbody>\n",
       "</table>\n",
       "<p>49475 rows × 13 columns</p>\n",
       "</div>"
      ],
      "text/plain": [
       "               Month  Avg. Players  Peak Players   appid  \\\n",
       "0       Last 30 Days     575701.03        906670     730   \n",
       "1          June 2022     572222.47        906670     730   \n",
       "2           May 2022     564961.70        923996     730   \n",
       "3         April 2022     568983.16       1013237     730   \n",
       "4         March 2022     581489.69        987993     730   \n",
       "...              ...           ...           ...     ...   \n",
       "49470       May 2019         56.86           105  553520   \n",
       "49471     April 2019         49.63            90  553520   \n",
       "49472     March 2019         51.58            94  553520   \n",
       "49473  February 2019         53.12            93  553520   \n",
       "49474   January 2019         53.22           100  553520   \n",
       "\n",
       "                                   name  price  oldprice  initialprice  \\\n",
       "0      Counter-Strike: Global Offensive      0       0.0           0.0   \n",
       "1      Counter-Strike: Global Offensive      0       0.0           0.0   \n",
       "2      Counter-Strike: Global Offensive      0       0.0           0.0   \n",
       "3      Counter-Strike: Global Offensive      0       0.0           0.0   \n",
       "4      Counter-Strike: Global Offensive      0       0.0           0.0   \n",
       "...                                 ...    ...       ...           ...   \n",
       "49470    Trainz Railroad Simulator 2019   3999    1799.0        3999.0   \n",
       "49471    Trainz Railroad Simulator 2019   3999    1799.0        3999.0   \n",
       "49472    Trainz Railroad Simulator 2019   3999    1799.0        3999.0   \n",
       "49473    Trainz Railroad Simulator 2019   3999    1799.0        3999.0   \n",
       "49474    Trainz Railroad Simulator 2019   3999    1799.0        3999.0   \n",
       "\n",
       "       discount  min_owners  max_owners  avg_owners  avg_player_proportion  \n",
       "0           0.0    50000000   100000000  75000000.0               0.767601  \n",
       "1           0.0    50000000   100000000  75000000.0               0.762963  \n",
       "2           0.0    50000000   100000000  75000000.0               0.753282  \n",
       "3           0.0    50000000   100000000  75000000.0               0.758644  \n",
       "4           0.0    50000000   100000000  75000000.0               0.775320  \n",
       "...         ...         ...         ...         ...                    ...  \n",
       "49470      55.0       50000      100000     75000.0               0.075813  \n",
       "49471      55.0       50000      100000     75000.0               0.066173  \n",
       "49472      55.0       50000      100000     75000.0               0.068773  \n",
       "49473      55.0       50000      100000     75000.0               0.070827  \n",
       "49474      55.0       50000      100000     75000.0               0.070960  \n",
       "\n",
       "[49475 rows x 13 columns]"
      ]
     },
     "execution_count": 52,
     "metadata": {},
     "output_type": "execute_result"
    }
   ],
   "source": [
    "df #Cleaned up dataset"
   ]
  },
  {
   "cell_type": "code",
   "execution_count": 130,
   "id": "8748eb63",
   "metadata": {},
   "outputs": [
    {
     "name": "stdout",
     "output_type": "stream",
     "text": [
      "491.84220000000005\n",
      "501.5034\n",
      "900.4714\n",
      "2114.6889\n",
      "5220.6637\n",
      "239.4535\n",
      "237.04160000000002\n",
      "256.39979999999997\n",
      "170.3959\n",
      "175.9196\n",
      "183.8207\n",
      "157.1612\n",
      "113.39280000000001\n",
      "115.141\n",
      "392.44849999999997\n",
      "417.1787\n",
      "924.4844\n",
      "264.9997\n",
      "270.6714\n",
      "183.55419999999998\n",
      "775.2768\n",
      "161.8371\n",
      "250.21970000000002\n",
      "128.7074\n",
      "117.1465\n"
     ]
    },
    {
     "data": {
      "text/plain": [
       "25"
      ]
     },
     "execution_count": 130,
     "metadata": {},
     "output_type": "execute_result"
    }
   ],
   "source": [
    "count = 0\n",
    "for x in df[\"avg_player_proportion\"]:\n",
    "    if (x > 100):\n",
    "        count = count + 1\n",
    "        print(x)\n",
    "count\n",
    "#apparently, one game has 5000% more people playing it than who actually own it\n",
    "#the steamcharts data comes directly from steam, the steamspy data doesn't and is only 98% accurate\n"
   ]
  },
  {
   "cell_type": "code",
   "execution_count": 53,
   "id": "c1fb7490",
   "metadata": {},
   "outputs": [
    {
     "data": {
      "text/plain": [
       "<AxesSubplot:xlabel='price', ylabel='avg_player_proportion'>"
      ]
     },
     "execution_count": 53,
     "metadata": {},
     "output_type": "execute_result"
    },
    {
     "data": {
      "image/png": "[encoded data removed]",
      "text/plain": [
       "<Figure size 640x480 with 1 Axes>"
      ]
     },
     "metadata": {},
     "output_type": "display_data"
    }
   ],
   "source": [
    "df[df[\"min_owners\"] > 30000].plot.scatter(x = \"price\", y = \"avg_player_proportion\", logy=True)"
   ]
  },
  {
   "cell_type": "code",
   "execution_count": 54,
   "id": "c6c9214e",
   "metadata": {},
   "outputs": [
    {
     "data": {
      "text/plain": [
       "<AxesSubplot:ylabel='Density'>"
      ]
     },
     "execution_count": 54,
     "metadata": {},
     "output_type": "execute_result"
    },
    {
     "data": {
      "image/png": "[encoded data removed]",
      "text/plain": [
       "<Figure size 640x480 with 1 Axes>"
      ]
     },
     "metadata": {},
     "output_type": "display_data"
    }
   ],
   "source": [
    "df[df[\"min_owners\"] > 30000].plot.kde(x = \"price\", y = \"Avg. Players\", xlim=[0, 10000])"
   ]
  },
  {
   "cell_type": "markdown",
   "id": "cc965571",
   "metadata": {},
   "source": []
  },
  {
   "cell_type": "code",
   "execution_count": 117,
   "id": "7c075982",
   "metadata": {},
   "outputs": [
    {
     "data": {
      "text/plain": [
       "<seaborn.axisgrid.JointGrid at 0x7f70ea347e80>"
      ]
     },
     "execution_count": 117,
     "metadata": {},
     "output_type": "execute_result"
    },
    {
     "data": {
      "image/png": "[encoded data removed]",
      "text/plain": [
       "<Figure size 600x600 with 3 Axes>"
      ]
     },
     "metadata": {},
     "output_type": "display_data"
    }
   ],
   "source": [
    "sns.jointplot(x = \"price\", y = \"avg_player_proportion\", data = df[(df[\"min_owners\"] > 30000) & (df[\"Month\"] == \"February 2022\")], ylim=[0, 6])"
   ]
  },
  {
   "cell_type": "code",
   "execution_count": 115,
   "id": "b3af3e5c",
   "metadata": {},
   "outputs": [
    {
     "data": {
      "text/plain": [
       "<seaborn.axisgrid.PairGrid at 0x7f70e9dfbf40>"
      ]
     },
     "execution_count": 115,
     "metadata": {},
     "output_type": "execute_result"
    },
    {
     "data": {
      "image/png": "[encoded data removed]",
      "text/plain": [
       "<Figure size 250x250 with 1 Axes>"
      ]
     },
     "metadata": {},
     "output_type": "display_data"
    }
   ],
   "source": [
    "sns.pairplot(x_vars = \"price\", y_vars = \"avg_player_proportion\", data = df[(df[\"min_owners\"] > 30000) & (df[\"Month\"] == \"February 2022\")])"
   ]
  },
  {
   "cell_type": "code",
   "execution_count": 126,
   "id": "ad45c2dc",
   "metadata": {},
   "outputs": [
    {
     "data": {
      "text/html": [
       "<div>\n",
       "<style scoped>\n",
       "    .dataframe tbody tr th:only-of-type {\n",
       "        vertical-align: middle;\n",
       "    }\n",
       "\n",
       "    .dataframe tbody tr th {\n",
       "        vertical-align: top;\n",
       "    }\n",
       "\n",
       "    .dataframe thead th {\n",
       "        text-align: right;\n",
       "    }\n",
       "</style>\n",
       "<table border=\"1\" class=\"dataframe\">\n",
       "  <thead>\n",
       "    <tr style=\"text-align: right;\">\n",
       "      <th></th>\n",
       "      <th>Avg. Players</th>\n",
       "      <th>Peak Players</th>\n",
       "      <th>appid</th>\n",
       "      <th>price</th>\n",
       "      <th>oldprice</th>\n",
       "      <th>initialprice</th>\n",
       "      <th>discount</th>\n",
       "      <th>min_owners</th>\n",
       "      <th>max_owners</th>\n",
       "      <th>avg_owners</th>\n",
       "      <th>avg_player_proportion</th>\n",
       "    </tr>\n",
       "  </thead>\n",
       "  <tbody>\n",
       "    <tr>\n",
       "      <th>Avg. Players</th>\n",
       "      <td>1.000000</td>\n",
       "      <td>0.988043</td>\n",
       "      <td>-0.055309</td>\n",
       "      <td>-0.074309</td>\n",
       "      <td>-0.075860</td>\n",
       "      <td>-0.081236</td>\n",
       "      <td>-0.029338</td>\n",
       "      <td>0.733888</td>\n",
       "      <td>0.710953</td>\n",
       "      <td>0.719173</td>\n",
       "      <td>0.071242</td>\n",
       "    </tr>\n",
       "    <tr>\n",
       "      <th>Peak Players</th>\n",
       "      <td>0.988043</td>\n",
       "      <td>1.000000</td>\n",
       "      <td>-0.044335</td>\n",
       "      <td>-0.068247</td>\n",
       "      <td>-0.069945</td>\n",
       "      <td>-0.074583</td>\n",
       "      <td>-0.027410</td>\n",
       "      <td>0.705276</td>\n",
       "      <td>0.683874</td>\n",
       "      <td>0.691567</td>\n",
       "      <td>0.071731</td>\n",
       "    </tr>\n",
       "    <tr>\n",
       "      <th>appid</th>\n",
       "      <td>-0.055309</td>\n",
       "      <td>-0.044335</td>\n",
       "      <td>1.000000</td>\n",
       "      <td>0.184282</td>\n",
       "      <td>0.165505</td>\n",
       "      <td>0.194295</td>\n",
       "      <td>0.008895</td>\n",
       "      <td>-0.176156</td>\n",
       "      <td>-0.180876</td>\n",
       "      <td>-0.179551</td>\n",
       "      <td>0.036778</td>\n",
       "    </tr>\n",
       "    <tr>\n",
       "      <th>price</th>\n",
       "      <td>-0.074309</td>\n",
       "      <td>-0.068247</td>\n",
       "      <td>0.184282</td>\n",
       "      <td>1.000000</td>\n",
       "      <td>0.885046</td>\n",
       "      <td>0.922562</td>\n",
       "      <td>0.060919</td>\n",
       "      <td>-0.170419</td>\n",
       "      <td>-0.172425</td>\n",
       "      <td>-0.171969</td>\n",
       "      <td>0.026509</td>\n",
       "    </tr>\n",
       "    <tr>\n",
       "      <th>oldprice</th>\n",
       "      <td>-0.075860</td>\n",
       "      <td>-0.069945</td>\n",
       "      <td>0.165505</td>\n",
       "      <td>0.885046</td>\n",
       "      <td>1.000000</td>\n",
       "      <td>0.947091</td>\n",
       "      <td>-0.188551</td>\n",
       "      <td>-0.167790</td>\n",
       "      <td>-0.171205</td>\n",
       "      <td>-0.170291</td>\n",
       "      <td>0.021510</td>\n",
       "    </tr>\n",
       "    <tr>\n",
       "      <th>initialprice</th>\n",
       "      <td>-0.081236</td>\n",
       "      <td>-0.074583</td>\n",
       "      <td>0.194295</td>\n",
       "      <td>0.922562</td>\n",
       "      <td>0.947091</td>\n",
       "      <td>1.000000</td>\n",
       "      <td>0.079302</td>\n",
       "      <td>-0.180264</td>\n",
       "      <td>-0.183999</td>\n",
       "      <td>-0.182996</td>\n",
       "      <td>0.020602</td>\n",
       "    </tr>\n",
       "    <tr>\n",
       "      <th>discount</th>\n",
       "      <td>-0.029338</td>\n",
       "      <td>-0.027410</td>\n",
       "      <td>0.008895</td>\n",
       "      <td>0.060919</td>\n",
       "      <td>-0.188551</td>\n",
       "      <td>0.079302</td>\n",
       "      <td>1.000000</td>\n",
       "      <td>-0.059879</td>\n",
       "      <td>-0.061758</td>\n",
       "      <td>-0.061219</td>\n",
       "      <td>-0.002534</td>\n",
       "    </tr>\n",
       "    <tr>\n",
       "      <th>min_owners</th>\n",
       "      <td>0.733888</td>\n",
       "      <td>0.705276</td>\n",
       "      <td>-0.176156</td>\n",
       "      <td>-0.170419</td>\n",
       "      <td>-0.167790</td>\n",
       "      <td>-0.180264</td>\n",
       "      <td>-0.059879</td>\n",
       "      <td>1.000000</td>\n",
       "      <td>0.994894</td>\n",
       "      <td>0.997660</td>\n",
       "      <td>-0.005197</td>\n",
       "    </tr>\n",
       "    <tr>\n",
       "      <th>max_owners</th>\n",
       "      <td>0.710953</td>\n",
       "      <td>0.683874</td>\n",
       "      <td>-0.180876</td>\n",
       "      <td>-0.172425</td>\n",
       "      <td>-0.171205</td>\n",
       "      <td>-0.183999</td>\n",
       "      <td>-0.061758</td>\n",
       "      <td>0.994894</td>\n",
       "      <td>1.000000</td>\n",
       "      <td>0.999466</td>\n",
       "      <td>-0.005484</td>\n",
       "    </tr>\n",
       "    <tr>\n",
       "      <th>avg_owners</th>\n",
       "      <td>0.719173</td>\n",
       "      <td>0.691567</td>\n",
       "      <td>-0.179551</td>\n",
       "      <td>-0.171969</td>\n",
       "      <td>-0.170291</td>\n",
       "      <td>-0.182996</td>\n",
       "      <td>-0.061219</td>\n",
       "      <td>0.997660</td>\n",
       "      <td>0.999466</td>\n",
       "      <td>1.000000</td>\n",
       "      <td>-0.005397</td>\n",
       "    </tr>\n",
       "    <tr>\n",
       "      <th>avg_player_proportion</th>\n",
       "      <td>0.071242</td>\n",
       "      <td>0.071731</td>\n",
       "      <td>0.036778</td>\n",
       "      <td>0.026509</td>\n",
       "      <td>0.021510</td>\n",
       "      <td>0.020602</td>\n",
       "      <td>-0.002534</td>\n",
       "      <td>-0.005197</td>\n",
       "      <td>-0.005484</td>\n",
       "      <td>-0.005397</td>\n",
       "      <td>1.000000</td>\n",
       "    </tr>\n",
       "  </tbody>\n",
       "</table>\n",
       "</div>"
      ],
      "text/plain": [
       "                       Avg. Players  Peak Players     appid     price  \\\n",
       "Avg. Players               1.000000      0.988043 -0.055309 -0.074309   \n",
       "Peak Players               0.988043      1.000000 -0.044335 -0.068247   \n",
       "appid                     -0.055309     -0.044335  1.000000  0.184282   \n",
       "price                     -0.074309     -0.068247  0.184282  1.000000   \n",
       "oldprice                  -0.075860     -0.069945  0.165505  0.885046   \n",
       "initialprice              -0.081236     -0.074583  0.194295  0.922562   \n",
       "discount                  -0.029338     -0.027410  0.008895  0.060919   \n",
       "min_owners                 0.733888      0.705276 -0.176156 -0.170419   \n",
       "max_owners                 0.710953      0.683874 -0.180876 -0.172425   \n",
       "avg_owners                 0.719173      0.691567 -0.179551 -0.171969   \n",
       "avg_player_proportion      0.071242      0.071731  0.036778  0.026509   \n",
       "\n",
       "                       oldprice  initialprice  discount  min_owners  \\\n",
       "Avg. Players          -0.075860     -0.081236 -0.029338    0.733888   \n",
       "Peak Players          -0.069945     -0.074583 -0.027410    0.705276   \n",
       "appid                  0.165505      0.194295  0.008895   -0.176156   \n",
       "price                  0.885046      0.922562  0.060919   -0.170419   \n",
       "oldprice               1.000000      0.947091 -0.188551   -0.167790   \n",
       "initialprice           0.947091      1.000000  0.079302   -0.180264   \n",
       "discount              -0.188551      0.079302  1.000000   -0.059879   \n",
       "min_owners            -0.167790     -0.180264 -0.059879    1.000000   \n",
       "max_owners            -0.171205     -0.183999 -0.061758    0.994894   \n",
       "avg_owners            -0.170291     -0.182996 -0.061219    0.997660   \n",
       "avg_player_proportion  0.021510      0.020602 -0.002534   -0.005197   \n",
       "\n",
       "                       max_owners  avg_owners  avg_player_proportion  \n",
       "Avg. Players             0.710953    0.719173               0.071242  \n",
       "Peak Players             0.683874    0.691567               0.071731  \n",
       "appid                   -0.180876   -0.179551               0.036778  \n",
       "price                   -0.172425   -0.171969               0.026509  \n",
       "oldprice                -0.171205   -0.170291               0.021510  \n",
       "initialprice            -0.183999   -0.182996               0.020602  \n",
       "discount                -0.061758   -0.061219              -0.002534  \n",
       "min_owners               0.994894    0.997660              -0.005197  \n",
       "max_owners               1.000000    0.999466              -0.005484  \n",
       "avg_owners               0.999466    1.000000              -0.005397  \n",
       "avg_player_proportion   -0.005484   -0.005397               1.000000  "
      ]
     },
     "execution_count": 126,
     "metadata": {},
     "output_type": "execute_result"
    }
   ],
   "source": [
    "df.corr()"
   ]
  },
  {
   "cell_type": "code",
   "execution_count": 132,
   "id": "4e61ed82",
   "metadata": {},
   "outputs": [
    {
     "data": {
      "text/plain": [
       "<matplotlib.collections.PathCollection at 0x7f70e9d64820>"
      ]
     },
     "execution_count": 132,
     "metadata": {},
     "output_type": "execute_result"
    },
    {
     "data": {
      "image/png": "[encoded data removed]",
      "text/plain": [
       "<Figure size 640x480 with 1 Axes>"
      ]
     },
     "metadata": {},
     "output_type": "display_data"
    }
   ],
   "source": [
    "plt.scatter(x=df[\"oldprice\"], y=df[\"avg_player_proportion\"])"
   ]
  },
  {
   "cell_type": "code",
   "execution_count": null,
   "id": "55649986",
   "metadata": {},
   "outputs": [],
   "source": []
  }
 ],
 "metadata": {
  "kernelspec": {
   "display_name": "Python 3 (ipykernel)",
   "language": "python",
   "name": "python3"
  },
  "language_info": {
   "codemirror_mode": {
    "name": "ipython",
    "version": 3
   },
   "file_extension": ".py",
   "mimetype": "text/x-python",
   "name": "python",
   "nbconvert_exporter": "python",
   "pygments_lexer": "ipython3",
   "version": "3.10.6"
  }
 },
 "nbformat": 4,
 "nbformat_minor": 5
}
